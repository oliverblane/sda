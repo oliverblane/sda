{
 "cells": [
  {
   "cell_type": "code",
   "execution_count": 1,
   "metadata": {},
   "outputs": [],
   "source": [
    "import numpy as np\n",
    "from numpy.linalg import eig\n",
    "from numpy import mean\n",
    "from scipy import stats\n",
    "from math import factorial\n",
    "\n",
    "def variance(x):\n",
    "    mean = np.mean(x)\n",
    "    total = 0\n",
    "    for element in x:\n",
    "        total += (element - mean)**2\n",
    "    return total/(len(x)-1)\n",
    "\n",
    "def std(x):\n",
    "    return np.sqrt(variance(x))\n",
    "\n",
    "def skew(x):\n",
    "    var = variance(x)\n",
    "    mean = np.mean(x)\n",
    "    total = 0\n",
    "    for element in x:\n",
    "        total += (element - mean)**3\n",
    "    return total / (len(x) * (var**(3/2)))\n",
    "\n",
    "def covariance(x, y):\n",
    "    mean_x, mean_y = np.mean(x), np.mean(y)\n",
    "    total = 0\n",
    "    for i in range(len(x)):\n",
    "        total += (x[i] - mean_x)*(y[i] - mean_y)\n",
    "    \n",
    "    return total/(len(x)-1)\n",
    "\n",
    "def spearman(x, y):\n",
    "    \"\"\"Calculates Spearman Rank Coefficient for two arrays of data,\n",
    "    x and y.\"\"\"\n",
    "    sorted_x_idx = stats.rankdata(x)\n",
    "    sorted_y_idx = stats.rankdata(y)\n",
    "    total = 0\n",
    "    N = len(x)\n",
    "    for i in range(N):\n",
    "        total += (sorted_x_idx[i] - sorted_y_idx[i])**2\n",
    "        \n",
    "    return (1 - (6*total) / (N * (N**2 - 1)))\n",
    "\n",
    "def binomial(r, p, n):\n",
    "    frac = (factorial(n) / (factorial(r)*factorial(n-r)))\n",
    "    return p**r * (1 - p)**(n - r) * frac\n",
    "\n",
    "def poisson(r, lam):\n",
    "    return (lam**r * np.exp(-lam)) / factorial(r)\n",
    "\n",
    "def gaussian(x, mu, sigma):\n",
    "    return (1 / (sigma*np.sqrt(2*np.pi))) * np.exp(-(x - mu)**2/2*sigma**2)\n",
    "\n",
    "def Gamma(n):\n",
    "    return factorial(n-1)\n",
    "\n",
    "def chi_squared(chisq, nu):\n",
    "    return (2**(-nu/2) * chisq**(nu/2 - 1) * np.exp(-chisq/2)) / Gamma(nu/2)\n",
    "\n",
    "def uniform(x, N):\n",
    "    return 1/N\n",
    "    "
   ]
  },
  {
   "cell_type": "code",
   "execution_count": 2,
   "metadata": {},
   "outputs": [],
   "source": [
    "omega = [.5, .9, 1.2, 1.5, 1.8, 2, 3.4, 4.1, 5, 5.1, 7.5, 8.5]\n",
    "k = [.7, .8, 1.1, 1.2, 1.5, 1.8, 1.9, 2, 2.5, 2.6, 2.9, 3.5]"
   ]
  },
  {
   "cell_type": "code",
   "execution_count": 3,
   "metadata": {},
   "outputs": [
    {
     "data": {
      "text/plain": [
       "array([[ 0.95135429, -0.30809905],\n",
       "       [ 0.30809905,  0.95135429]])"
      ]
     },
     "execution_count": 3,
     "metadata": {},
     "output_type": "execute_result"
    }
   ],
   "source": [
    "V = np.array([[variance(omega), covariance(omega, k)],\n",
    "             [covariance(omega, k), variance(k)]])\n",
    "\n",
    "eigenvalues, eigenvectors = eig(V)\n",
    "eigenvectors"
   ]
  },
  {
   "cell_type": "code",
   "execution_count": 4,
   "metadata": {},
   "outputs": [
    {
     "name": "stdout",
     "output_type": "stream",
     "text": [
      "3.5\n",
      "3.0\n",
      "1.7320508075688772\n",
      "0.0\n"
     ]
    }
   ],
   "source": [
    "omega = [1, 2.5, 3, 4, 4.5, 6]\n",
    "print(np.mean(omega))\n",
    "print(variance(omega))\n",
    "print(std(omega))\n",
    "print(skew(omega))"
   ]
  },
  {
   "cell_type": "code",
   "execution_count": 5,
   "metadata": {},
   "outputs": [
    {
     "name": "stdout",
     "output_type": "stream",
     "text": [
      "1.7428571428571427\n",
      "0.7428571428571429\n",
      "0.8618916073713346\n",
      "0.026638133469581587\n"
     ]
    }
   ],
   "source": [
    "omega = [.5, 1, 1.5, 1.6, 3, 2.1, 2.5]\n",
    "print(np.mean(omega))\n",
    "print(variance(omega))\n",
    "print(std(omega))\n",
    "print(skew(omega))"
   ]
  },
  {
   "cell_type": "code",
   "execution_count": 6,
   "metadata": {},
   "outputs": [
    {
     "data": {
      "text/plain": [
       "0.017000000000000008"
      ]
     },
     "execution_count": 6,
     "metadata": {},
     "output_type": "execute_result"
    }
   ],
   "source": [
    "x = [.1, .22, .25, .5, .55, .7, .8, .9, 1, 1.11, 1.12]\n",
    "y = [1, 1.1, 1.1, 1.2, 1.3, 1.4, 1.4, 1.3, 1.6, 1.5, 1.4]\n",
    "z = [.1, -.2, .3, .4, .1, -.4, .1, -.1, .6, .7, -.3]\n",
    "\n",
    "covariance(y,z)"
   ]
  },
  {
   "cell_type": "code",
   "execution_count": 7,
   "metadata": {},
   "outputs": [
    {
     "data": {
      "text/plain": [
       "0.25806092613071363"
      ]
     },
     "execution_count": 7,
     "metadata": {},
     "output_type": "execute_result"
    }
   ],
   "source": [
    ".017 / (std(y) * std(z))"
   ]
  },
  {
   "cell_type": "code",
   "execution_count": 8,
   "metadata": {},
   "outputs": [
    {
     "data": {
      "text/plain": [
       "0.8332164480906891"
      ]
     },
     "execution_count": 8,
     "metadata": {},
     "output_type": "execute_result"
    }
   ],
   "source": [
    "x = [0, .2, .3, .4, .5, .7, .8, .9, 1, .9, 1.1]\n",
    "y = [.9, 1.1, 1.2, 1.2, 1.3, 1.4, 1.5, 1.3, 1.6, 1.5, 1.3]\n",
    "z = [-.1, -.2, .1, .2, .1, 0, .2, .1, .5, .6, .3]\n",
    "\n",
    "covariance(x, y) / (std(x) * std(y))"
   ]
  },
  {
   "cell_type": "code",
   "execution_count": 9,
   "metadata": {},
   "outputs": [
    {
     "data": {
      "text/plain": [
       "0.5857142857142856"
      ]
     },
     "execution_count": 9,
     "metadata": {},
     "output_type": "execute_result"
    }
   ],
   "source": [
    "x = [.5, .7, .8, .9, 1.1, 1.3]\n",
    "y = [.9, .8, 1.1, 1.2, 1.2, 1]\n",
    "\n",
    "spearman(x, y)"
   ]
  },
  {
   "cell_type": "code",
   "execution_count": 10,
   "metadata": {},
   "outputs": [
    {
     "data": {
      "text/plain": [
       "-0.027272727272727337"
      ]
     },
     "execution_count": 10,
     "metadata": {},
     "output_type": "execute_result"
    }
   ],
   "source": [
    "x = [.1, .3, .2, 0, .4, .5, .1, .2, .6, .5]\n",
    "y = [.5, .7, .2, .3, .8, .1, .9, 0, .4, .6]\n",
    "\n",
    "spearman(x, y)"
   ]
  },
  {
   "cell_type": "code",
   "execution_count": 11,
   "metadata": {},
   "outputs": [
    {
     "data": {
      "text/plain": [
       "0.23040000000000005"
      ]
     },
     "execution_count": 11,
     "metadata": {},
     "output_type": "execute_result"
    }
   ],
   "source": [
    "binomial(3, .4, 5)"
   ]
  },
  {
   "cell_type": "code",
   "execution_count": 12,
   "metadata": {},
   "outputs": [
    {
     "data": {
      "text/plain": [
       "0.049787068367863944"
      ]
     },
     "execution_count": 12,
     "metadata": {},
     "output_type": "execute_result"
    }
   ],
   "source": [
    "poisson(0, 3)"
   ]
  },
  {
   "cell_type": "code",
   "execution_count": 13,
   "metadata": {},
   "outputs": [
    {
     "data": {
      "text/plain": [
       "(0.07326255555493671, 0.15629345185053165)"
      ]
     },
     "execution_count": 13,
     "metadata": {},
     "output_type": "execute_result"
    }
   ],
   "source": [
    "poisson(1, 4), poisson(5, 4)"
   ]
  },
  {
   "cell_type": "code",
   "execution_count": 14,
   "metadata": {},
   "outputs": [
    {
     "data": {
      "text/plain": [
       "0.46875000000000006"
      ]
     },
     "execution_count": 14,
     "metadata": {},
     "output_type": "execute_result"
    }
   ],
   "source": [
    "poisson(1, 4) / poisson(5, 4)"
   ]
  },
  {
   "cell_type": "code",
   "execution_count": 15,
   "metadata": {},
   "outputs": [
    {
     "data": {
      "text/plain": [
       "0.6065306597126334"
      ]
     },
     "execution_count": 15,
     "metadata": {},
     "output_type": "execute_result"
    }
   ],
   "source": [
    "gaussian(1, 0, 1) / gaussian(0, 0, 1)"
   ]
  },
  {
   "cell_type": "markdown",
   "metadata": {},
   "source": [
    "## Chi-squared"
   ]
  },
  {
   "cell_type": "code",
   "execution_count": 2,
   "metadata": {},
   "outputs": [],
   "source": [
    "def chi_squared(chisq, nu):\n",
    "    return (2**(-nu/2) * chisq**(nu/2 - 1) * np.exp(-chisq/2)) / Gamma(nu/2)"
   ]
  },
  {
   "cell_type": "code",
   "execution_count": 17,
   "metadata": {},
   "outputs": [
    {
     "data": {
      "text/plain": [
       "0.1026062482798735"
      ]
     },
     "execution_count": 17,
     "metadata": {},
     "output_type": "execute_result"
    }
   ],
   "source": [
    "chi_squared(5,4)"
   ]
  },
  {
   "cell_type": "code",
   "execution_count": 18,
   "metadata": {},
   "outputs": [
    {
     "data": {
      "text/plain": [
       "0.0007897534631674915"
      ]
     },
     "execution_count": 18,
     "metadata": {},
     "output_type": "execute_result"
    }
   ],
   "source": [
    "chi_squared(1, 10)"
   ]
  },
  {
   "cell_type": "code",
   "execution_count": 19,
   "metadata": {},
   "outputs": [
    {
     "data": {
      "text/plain": [
       "0.030656620097620196"
      ]
     },
     "execution_count": 19,
     "metadata": {},
     "output_type": "execute_result"
    }
   ],
   "source": [
    "chi_squared(2, 8)"
   ]
  },
  {
   "cell_type": "code",
   "execution_count": 20,
   "metadata": {
    "scrolled": true
   },
   "outputs": [
    {
     "data": {
      "text/plain": [
       "0.018315638888734182"
      ]
     },
     "execution_count": 20,
     "metadata": {},
     "output_type": "execute_result"
    }
   ],
   "source": [
    "stats.chi2.sf(8, 2)"
   ]
  },
  {
   "cell_type": "markdown",
   "metadata": {},
   "source": [
    "# Uncertainties\n",
    "\n",
    "## Weighted Averages"
   ]
  },
  {
   "cell_type": "code",
   "execution_count": 3,
   "metadata": {},
   "outputs": [],
   "source": [
    "def weighted_av_single(x, errors):\n",
    "    \"\"\"Calculates the weighted average of a set of measurements for a \n",
    "    single observation.\n",
    "    \n",
    "    Returns the weighted average and the error.\n",
    "    \n",
    "    -+-+-+-+-+-\n",
    "    PARAMETERS\n",
    "    -+-+-+-+-+-\n",
    "    \n",
    "    x: list containing the measurements\n",
    "    errors: list containing the errors.\n",
    "    \"\"\"\n",
    "    \n",
    "    total_top = 0\n",
    "    total_bottom = 0\n",
    "    \n",
    "    for i in range(len(x)):\n",
    "        var = errors[i]**2\n",
    "        total_top += x[i] / var\n",
    "        total_bottom += 1/var\n",
    "        \n",
    "    mean_x = total_top/total_bottom\n",
    "    sigma_x = 1/np.sqrt(total_bottom)\n",
    "        \n",
    "    return mean_x, sigma_x"
   ]
  },
  {
   "cell_type": "code",
   "execution_count": 4,
   "metadata": {},
   "outputs": [
    {
     "data": {
      "text/plain": [
       "(0.6628564627744128, 0.021870089601599807)"
      ]
     },
     "execution_count": 4,
     "metadata": {},
     "output_type": "execute_result"
    }
   ],
   "source": [
    "weighted_av_single([.655, .59, .789], [.024, .08, .071])"
   ]
  },
  {
   "cell_type": "code",
   "execution_count": 5,
   "metadata": {},
   "outputs": [
    {
     "data": {
      "text/plain": [
       "(1.5, 0.35355339059327373)"
      ]
     },
     "execution_count": 5,
     "metadata": {},
     "output_type": "execute_result"
    }
   ],
   "source": [
    "weighted_av_single([1, 2], [.5, .5])"
   ]
  },
  {
   "cell_type": "code",
   "execution_count": 6,
   "metadata": {},
   "outputs": [
    {
     "data": {
      "text/plain": [
       "0.25"
      ]
     },
     "execution_count": 6,
     "metadata": {},
     "output_type": "execute_result"
    }
   ],
   "source": [
    "covariance([2, 1.5], [0, -1])"
   ]
  },
  {
   "cell_type": "code",
   "execution_count": 7,
   "metadata": {},
   "outputs": [
    {
     "data": {
      "text/plain": [
       "(array([ 1.81907285, -0.73774834]),\n",
       " array([[0.02930861, 0.01299338],\n",
       "        [0.01299338, 0.06615894]]))"
      ]
     },
     "execution_count": 7,
     "metadata": {},
     "output_type": "execute_result"
    }
   ],
   "source": [
    "def weighted_av_set(measurements, errors, correlation, precision=None):\n",
    "    \"\"\"Calculates the weighted average of a set of measurements for a \n",
    "    set of observables.\n",
    "    \n",
    "    Returns the weighted average and the error.\n",
    "    \n",
    "    CURRENTLY ONLY BUILT FOR 2D.\n",
    "    \n",
    "    -+-+-+-+-+-\n",
    "    PARAMETERS\n",
    "    -+-+-+-+-+-\n",
    "    \n",
    "    measurements: list of lists containing the measurements for each\n",
    "                    experiment\n",
    "    errors: list of lists containing the errors for each experiment\n",
    "    correlation: list of lists containing the correlations for each \n",
    "                    experiment\n",
    "    \"\"\"\n",
    "    V_list = []\n",
    "    x_list = []\n",
    "    size = len(measurements)\n",
    "    \n",
    "    for i in range(size):\n",
    "        corr_mat = np.ones((size, size))\n",
    "        cov_mat = np.ones((size, size))*correlation[i][0]*errors[i][0]*errors[i][1]\n",
    "        for j in range(len(errors[i])):\n",
    "            cov_mat[j, j] = errors[i][j]**2\n",
    "            \n",
    "            #corr_mat[j, -j-1] = correlation[i][0]\n",
    "\n",
    "        inv_cov = np.linalg.inv(cov_mat)\n",
    "        \n",
    "        V_list.append(inv_cov)\n",
    "        x_list.append(inv_cov @ measurements[i])\n",
    "            \n",
    "    V = np.linalg.inv(sum(V_list))\n",
    "    x = V @ (sum(x_list))\n",
    "    \n",
    "    if precision == None:\n",
    "        return x, V\n",
    "    \n",
    "    else:\n",
    "        return np.round(x, precision), np.round(V, precision)\n",
    "            \n",
    "            \n",
    "\n",
    "\n",
    "# format: [expt1], [expt2], ...\n",
    "measurements = [[2, 0], [1.5, -1]]\n",
    "errors = [[.2, .5], [.5, .3]]\n",
    "correlation = [[.5], [.1]]\n",
    "\n",
    "weighted_av_set(measurements, errors, correlation)"
   ]
  },
  {
   "cell_type": "code",
   "execution_count": 26,
   "metadata": {},
   "outputs": [
    {
     "data": {
      "text/plain": [
       "(array([1.58506224, 0.10995851]),\n",
       " array([[0.12033195, 0.00311203],\n",
       "        [0.00311203, 0.00792531]]))"
      ]
     },
     "execution_count": 26,
     "metadata": {},
     "output_type": "execute_result"
    }
   ],
   "source": [
    "# format: [expt1], [expt2], ...\n",
    "measurements = [[2, 0], [1.5, .5]]\n",
    "errors = [[.5, .1], [.5, .2]]\n",
    "correlation = [[0], [.3]]\n",
    "\n",
    "weighted_av_set(measurements, errors, correlation)"
   ]
  },
  {
   "cell_type": "code",
   "execution_count": 27,
   "metadata": {},
   "outputs": [
    {
     "data": {
      "text/plain": [
       "(0.5, 0.7071067811865475)"
      ]
     },
     "execution_count": 27,
     "metadata": {},
     "output_type": "execute_result"
    }
   ],
   "source": [
    "A = [3, 2]\n",
    "B = [0, 1]\n",
    "C = [0, 1]\n",
    "weighted_av_single(B, [1, 1])"
   ]
  },
  {
   "cell_type": "code",
   "execution_count": 10,
   "metadata": {},
   "outputs": [],
   "source": [
    "def hypothesis_ratio(data, hypotheses=[gaussian, uniform], params=[[0, 1], [10]]):\n",
    "    \"\"\"Calculates the product of all ratios between the two hypotheses\n",
    "    for a given set of data.\n",
    "    \n",
    "    -+-+-+-+-+-\n",
    "    PARAMETERS\n",
    "    -+-+-+-+-+-\n",
    "    \n",
    "    data: the data to which the two hypotheses apply\n",
    "    hypotheses: the two distributions that we wish to compare for the data\n",
    "    params: the parameters for the given hypotheses\"\"\"\n",
    "    h0, h1 = hypotheses\n",
    "    PI = 1\n",
    "    for w in data:\n",
    "        PI *= h0(w, *params[0]) / h1(w, *params[1])\n",
    "    \n",
    "    return PI"
   ]
  },
  {
   "cell_type": "code",
   "execution_count": 41,
   "metadata": {},
   "outputs": [
    {
     "data": {
      "text/plain": [
       "140289.8050224156"
      ]
     },
     "execution_count": 41,
     "metadata": {},
     "output_type": "execute_result"
    }
   ],
   "source": [
    "omega = [-1.0, -0.9, -0.7, -0.1, 0.0, 0.1, 0.2, 0.5, 0.6, 1.0]\n",
    "hypothesis_ratio(omega)"
   ]
  },
  {
   "cell_type": "code",
   "execution_count": 42,
   "metadata": {},
   "outputs": [
    {
     "data": {
      "text/plain": [
       "3.5611082650219095e-13"
      ]
     },
     "execution_count": 42,
     "metadata": {},
     "output_type": "execute_result"
    }
   ],
   "source": [
    "omega = {-4, -3, -2, -1, 0, 1, 2, 3, 4, 5}\n",
    "hypothesis_ratio(omega)"
   ]
  },
  {
   "cell_type": "code",
   "execution_count": 43,
   "metadata": {},
   "outputs": [
    {
     "data": {
      "text/plain": [
       "0.018935743084422987"
      ]
     },
     "execution_count": 43,
     "metadata": {},
     "output_type": "execute_result"
    }
   ],
   "source": [
    "omega = {0, .1, .15, .2, .21}\n",
    "hypothesis_ratio(omega, hypotheses=[uniform, gaussian], params=[[len(omega)], (.15, .9)])"
   ]
  },
  {
   "cell_type": "code",
   "execution_count": 12,
   "metadata": {},
   "outputs": [
    {
     "data": {
      "text/plain": [
       "0.0005"
      ]
     },
     "execution_count": 12,
     "metadata": {},
     "output_type": "execute_result"
    }
   ],
   "source": [
    "0.05 / 100"
   ]
  },
  {
   "cell_type": "code",
   "execution_count": 19,
   "metadata": {},
   "outputs": [],
   "source": [
    "def bayes_theorem(p_c_a, p_c_b, p_a):\n",
    "    \"\"\"\n",
    "    Calculates Bayes' Theorem for a scenario with two possible main\n",
    "    outcomes.\n",
    "    \n",
    "    -+-+-+-+-+-\n",
    "    PARAMETERS\n",
    "    -+-+-+-+-+-\n",
    "    \n",
    "    p_c_a: probability of event c given a is true\n",
    "    p_c_b: probability of event c given b is true\n",
    "    p_a: probability of event a being true\n",
    "    \n",
    "    -+-+-+-+-+-\n",
    "    EXAMPLE\n",
    "    -+-+-+-+-+-\n",
    "    \n",
    "    Consider a test that correctly predicts infection at a rate of 98%,\n",
    "    and incorrectly predicts infection at a rate of 0.05%. The percentage\n",
    "    of infected individuals in the population is 0.01%. The probability\n",
    "    that someone is infected given a positive test result can be found\n",
    "    using the following logic:\n",
    "    \n",
    "    - Event a is infection\n",
    "    - Event b is health\n",
    "    - Event c is a positive test\n",
    "    \n",
    "    bayes_theorem(0.98, 0.0005, 0.0001)\n",
    "    \n",
    "    \"\"\"\n",
    "    \n",
    "    p_b = 1 - p_a\n",
    "    p_c = p_c_a*p_a + p_c_b*p_b\n",
    "    \n",
    "    p_a_c = (p_c_a*p_a) / (p_c)\n",
    "    \n",
    "    return p_a_c"
   ]
  },
  {
   "cell_type": "code",
   "execution_count": 20,
   "metadata": {},
   "outputs": [
    {
     "data": {
      "text/plain": [
       "0.1638933021155615"
      ]
     },
     "execution_count": 20,
     "metadata": {},
     "output_type": "execute_result"
    }
   ],
   "source": [
    "bayes_theorem(.98, .0005, .0001)"
   ]
  },
  {
   "cell_type": "code",
   "execution_count": 21,
   "metadata": {},
   "outputs": [
    {
     "data": {
      "text/plain": [
       "0.9091653027823241"
      ]
     },
     "execution_count": 21,
     "metadata": {},
     "output_type": "execute_result"
    }
   ],
   "source": [
    "bayes_theorem(.9999, .0001, .001)"
   ]
  },
  {
   "cell_type": "code",
   "execution_count": 23,
   "metadata": {},
   "outputs": [
    {
     "data": {
      "text/plain": [
       "0.9999909991809255"
      ]
     },
     "execution_count": 23,
     "metadata": {},
     "output_type": "execute_result"
    }
   ],
   "source": [
    "bayes_theorem(.9999, 1/1_000_000, .1)"
   ]
  },
  {
   "cell_type": "code",
   "execution_count": 24,
   "metadata": {},
   "outputs": [
    {
     "data": {
      "text/plain": [
       "3.525890604554078"
      ]
     },
     "execution_count": 24,
     "metadata": {},
     "output_type": "execute_result"
    }
   ],
   "source": [
    "omega = [0, 1, 2, 4, 6]\n",
    "hypothesis_ratio(omega, [poisson, poisson], [[3], [4]])"
   ]
  },
  {
   "cell_type": "code",
   "execution_count": 26,
   "metadata": {},
   "outputs": [
    {
     "data": {
      "text/plain": [
       "0.8367103680728915"
      ]
     },
     "execution_count": 26,
     "metadata": {},
     "output_type": "execute_result"
    }
   ],
   "source": [
    "omega = [1, 2, 3, 5, 7]\n",
    "hypothesis_ratio(omega, [poisson, poisson], [[3], [4]])"
   ]
  },
  {
   "cell_type": "code",
   "execution_count": 27,
   "metadata": {},
   "outputs": [
    {
     "data": {
      "text/plain": [
       "0.23838255092637145"
      ]
     },
     "execution_count": 27,
     "metadata": {},
     "output_type": "execute_result"
    }
   ],
   "source": [
    "omega = [1, 2, 3, 4, 5]\n",
    "hypothesis_ratio(omega, [binomial, gaussian], [[.4, len(omega)], [3, 1]])"
   ]
  },
  {
   "cell_type": "code",
   "execution_count": null,
   "metadata": {},
   "outputs": [],
   "source": []
  }
 ],
 "metadata": {
  "kernelspec": {
   "display_name": "Python 3",
   "language": "python",
   "name": "python3"
  },
  "language_info": {
   "codemirror_mode": {
    "name": "ipython",
    "version": 3
   },
   "file_extension": ".py",
   "mimetype": "text/x-python",
   "name": "python",
   "nbconvert_exporter": "python",
   "pygments_lexer": "ipython3",
   "version": "3.7.6"
  }
 },
 "nbformat": 4,
 "nbformat_minor": 4
}
